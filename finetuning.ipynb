{
 "cells": [
  {
   "cell_type": "code",
   "execution_count": 28,
   "metadata": {},
   "outputs": [],
   "source": [
    "import pandas as pd\n",
    "import openai\n",
    "from sklearn.preprocessing import LabelEncoder                                              "
   ]
  },
  {
   "cell_type": "code",
   "execution_count": 29,
   "metadata": {},
   "outputs": [],
   "source": [
    "grammer_data = pd.read_csv(\"./grammer_data.csv\", header=1)"
   ]
  },
  {
   "cell_type": "code",
   "execution_count": 30,
   "metadata": {},
   "outputs": [
    {
     "data": {
      "text/html": [
       "<div>\n",
       "<style scoped>\n",
       "    .dataframe tbody tr th:only-of-type {\n",
       "        vertical-align: middle;\n",
       "    }\n",
       "\n",
       "    .dataframe tbody tr th {\n",
       "        vertical-align: top;\n",
       "    }\n",
       "\n",
       "    .dataframe thead th {\n",
       "        text-align: right;\n",
       "    }\n",
       "</style>\n",
       "<table border=\"1\" class=\"dataframe\">\n",
       "  <thead>\n",
       "    <tr style=\"text-align: right;\">\n",
       "      <th></th>\n",
       "      <th>대분류</th>\n",
       "      <th>소분류</th>\n",
       "      <th>난이도</th>\n",
       "      <th>문장</th>\n",
       "      <th>해석</th>\n",
       "    </tr>\n",
       "  </thead>\n",
       "  <tbody>\n",
       "    <tr>\n",
       "      <th>0</th>\n",
       "      <td>문장 형식</td>\n",
       "      <td>주어+완전자동사 (S+V)</td>\n",
       "      <td>하</td>\n",
       "      <td>You win.</td>\n",
       "      <td>네가 이겼어.</td>\n",
       "    </tr>\n",
       "    <tr>\n",
       "      <th>1</th>\n",
       "      <td>문장 형식</td>\n",
       "      <td>주어+완전자동사 (S+V)</td>\n",
       "      <td>하</td>\n",
       "      <td>Going up?</td>\n",
       "      <td>올라가나요?</td>\n",
       "    </tr>\n",
       "    <tr>\n",
       "      <th>2</th>\n",
       "      <td>문장 형식</td>\n",
       "      <td>주어+완전자동사 (S+V)</td>\n",
       "      <td>하</td>\n",
       "      <td>Let's see.</td>\n",
       "      <td>어디 보자.</td>\n",
       "    </tr>\n",
       "    <tr>\n",
       "      <th>3</th>\n",
       "      <td>문장 형식</td>\n",
       "      <td>주어+완전자동사 (S+V)</td>\n",
       "      <td>하</td>\n",
       "      <td>Let's try.</td>\n",
       "      <td>한 번 해봅시다.</td>\n",
       "    </tr>\n",
       "    <tr>\n",
       "      <th>4</th>\n",
       "      <td>문장 형식</td>\n",
       "      <td>주어+완전자동사 (S+V)</td>\n",
       "      <td>하</td>\n",
       "      <td>Speak out.</td>\n",
       "      <td>거리낌 없이 얘기 해.</td>\n",
       "    </tr>\n",
       "  </tbody>\n",
       "</table>\n",
       "</div>"
      ],
      "text/plain": [
       "     대분류             소분류 난이도          문장            해석\n",
       "0  문장 형식  주어+완전자동사 (S+V)   하    You win.      네가 이겼어. \n",
       "1  문장 형식  주어+완전자동사 (S+V)   하   Going up?        올라가나요?\n",
       "2  문장 형식  주어+완전자동사 (S+V)   하  Let's see.       어디 보자. \n",
       "3  문장 형식  주어+완전자동사 (S+V)   하  Let's try.    한 번 해봅시다. \n",
       "4  문장 형식  주어+완전자동사 (S+V)   하  Speak out.  거리낌 없이 얘기 해."
      ]
     },
     "execution_count": 30,
     "metadata": {},
     "output_type": "execute_result"
    }
   ],
   "source": [
    "grammer_data.head()"
   ]
  },
  {
   "cell_type": "code",
   "execution_count": 31,
   "metadata": {},
   "outputs": [],
   "source": [
    "dataset={}\n",
    "for category in grammer_data['catetory'].unique():\n",
    "    dataset[category] = grammer_data[grammer_data['catetory']==category][['catetory','detail','sentence']]\n",
    "    encoder = LabelEncoder()\n",
    "    dataset[category]['detail']=encoder.fit_transform(dataset[category]['detail'].values)"
   ]
  },
  {
   "cell_type": "code",
   "execution_count": 33,
   "metadata": {},
   "outputs": [
    {
     "data": {
      "text/plain": [
       "array(['가능 여부 표현하기', '가능 여부 표현하기', '가능 여부 표현하기', ..., '인물묘사하기', '인물묘사하기',\n",
       "       '인물묘사하기'], dtype=object)"
      ]
     },
     "metadata": {},
     "output_type": "display_data"
    }
   ],
   "source": [
    "display(encoder.inverse_transform(dataset[category]['detail']))"
   ]
  },
  {
   "cell_type": "code",
   "execution_count": 34,
   "metadata": {},
   "outputs": [
    {
     "data": {
      "text/plain": [
       "dict_keys(['문장 형식', '문장의 종류', '문장 구성 요소', '명사 (nouns)', '대명사 (referents)', '동사 (verbs)', '시제 (tense)', '조동사 (modals)', '형용사 (adjectives)', '부사 (adverbs)', '전치사 (prepositions)', '접속사 (conjunctions)', '한정사 (determiners)', '부정 (negation)', '도치 강조 생략 삽입', '분사 (participle)', '동명사 (gerunds)', '부정사 (infinitives)', '비교 (comparison)', '관계사 (relatives)', '태 (voice)', '가정법 (subjunctives)', '문장 전환 (transformation)', '빈출 관용 구문', '숙어 (Idioms)', '의사소통 (communicatives)'])"
      ]
     },
     "execution_count": 34,
     "metadata": {},
     "output_type": "execute_result"
    }
   ],
   "source": [
    "dataset.keys()"
   ]
  },
  {
   "cell_type": "code",
   "execution_count": 36,
   "metadata": {},
   "outputs": [],
   "source": [
    "import pandas as pd\n",
    "import re\n",
    "import json\n",
    "import glob, os\n",
    "\n",
    "os.makedirs('./dataset', exist_ok=True)\n",
    "english_pattern = re.compile(r'\\b[a-zA-Z]+\\b')\n",
    "df_dict={}\n",
    "for idx, key in enumerate(dataset.keys()):\n",
    "    labels = [i for i in dataset[key]['detail']]\n",
    "    texts = [i for i in dataset[key]['문장']]\n",
    "    df_dict[key] = pd.DataFrame(zip(texts, labels), columns = ['prompt','completion']) #[:300]\n",
    "    en_key= key if english_pattern.findall(key)==[] else english_pattern.findall(key)[0]\n",
    "    df_json = df_dict[key].to_json(f\"dataset/{en_key}.jsonl\", orient='records', lines=True)"
   ]
  },
  {
   "cell_type": "code",
   "execution_count": 8,
   "metadata": {},
   "outputs": [
    {
     "name": "stdout",
     "output_type": "stream",
     "text": [
      "Requirement already satisfied: openai in /Users/aohus/.pyenv/versions/3.8.3/lib/python3.8/site-packages (0.26.5)\n",
      "Requirement already satisfied: requests>=2.20 in /Users/aohus/.pyenv/versions/3.8.3/lib/python3.8/site-packages (from openai) (2.24.0)\n",
      "Requirement already satisfied: tqdm in /Users/aohus/.pyenv/versions/3.8.3/lib/python3.8/site-packages (from openai) (4.50.2)\n",
      "Requirement already satisfied: aiohttp in /Users/aohus/.pyenv/versions/3.8.3/lib/python3.8/site-packages (from openai) (3.8.4)\n",
      "Requirement already satisfied: idna<3,>=2.5 in /Users/aohus/.pyenv/versions/3.8.3/lib/python3.8/site-packages (from requests>=2.20->openai) (2.10)\n",
      "Requirement already satisfied: certifi>=2017.4.17 in /Users/aohus/.pyenv/versions/3.8.3/lib/python3.8/site-packages (from requests>=2.20->openai) (2020.6.20)\n",
      "Requirement already satisfied: chardet<4,>=3.0.2 in /Users/aohus/.pyenv/versions/3.8.3/lib/python3.8/site-packages (from requests>=2.20->openai) (3.0.4)\n",
      "Requirement already satisfied: urllib3!=1.25.0,!=1.25.1,<1.26,>=1.21.1 in /Users/aohus/.pyenv/versions/3.8.3/lib/python3.8/site-packages (from requests>=2.20->openai) (1.25.10)\n",
      "Requirement already satisfied: yarl<2.0,>=1.0 in /Users/aohus/.pyenv/versions/3.8.3/lib/python3.8/site-packages (from aiohttp->openai) (1.8.2)\n",
      "Requirement already satisfied: charset-normalizer<4.0,>=2.0 in /Users/aohus/.pyenv/versions/3.8.3/lib/python3.8/site-packages (from aiohttp->openai) (3.0.1)\n",
      "Requirement already satisfied: multidict<7.0,>=4.5 in /Users/aohus/.pyenv/versions/3.8.3/lib/python3.8/site-packages (from aiohttp->openai) (6.0.4)\n",
      "Requirement already satisfied: async-timeout<5.0,>=4.0.0a3 in /Users/aohus/.pyenv/versions/3.8.3/lib/python3.8/site-packages (from aiohttp->openai) (4.0.2)\n",
      "Requirement already satisfied: frozenlist>=1.1.1 in /Users/aohus/.pyenv/versions/3.8.3/lib/python3.8/site-packages (from aiohttp->openai) (1.3.3)\n",
      "Requirement already satisfied: attrs>=17.3.0 in /Users/aohus/.pyenv/versions/3.8.3/lib/python3.8/site-packages (from aiohttp->openai) (20.2.0)\n",
      "Requirement already satisfied: aiosignal>=1.1.2 in /Users/aohus/.pyenv/versions/3.8.3/lib/python3.8/site-packages (from aiohttp->openai) (1.3.1)\n"
     ]
    }
   ],
   "source": [
    "!pip install --upgrade openai"
   ]
  },
  {
   "cell_type": "code",
   "execution_count": 107,
   "metadata": {},
   "outputs": [],
   "source": [
    "filename='sentence_type'"
   ]
  },
  {
   "cell_type": "code",
   "execution_count": 106,
   "metadata": {},
   "outputs": [
    {
     "name": "stdout",
     "output_type": "stream",
     "text": [
      "Analyzing...\n",
      "\n",
      "- Your file contains 1489 prompt-completion pairs\n",
      "- Based on your data it seems like you're trying to fine-tune a model for classification\n",
      "- For classification, we recommend you try one of the faster and cheaper models, such as `ada`\n",
      "- For classification, you can estimate the expected model performance by keeping a held out dataset, which is not used for training\n",
      "- There are 5 duplicated prompt-completion sets. These are rows: [175, 294, 353, 354, 437]\n",
      "- Your data does not contain a common separator at the end of your prompts. Having a separator string appended to the end of the prompt makes it clearer to the fine-tuned model where the completion should begin. See https://beta.openai.com/docs/guides/fine-tuning/preparing-your-dataset for more detail and examples. If you intend to do open-ended generation, then you should leave the prompts empty\n",
      "- The completion should start with a whitespace character (` `). This tends to produce better results due to the tokenization we use. See https://beta.openai.com/docs/guides/fine-tuning/preparing-your-dataset for more details\n",
      "\n",
      "Based on the analysis we will perform the following actions:\n",
      "- [Recommended] Remove 5 duplicate rows [Y/n]: Y\n",
      "- [Recommended] Add a suffix separator ` ->` to all prompts [Y/n]: Y\n",
      "/Users/aohus/.pyenv/versions/3.8.3/lib/python3.8/site-packages/openai/validators.py:222: SettingWithCopyWarning: \n",
      "A value is trying to be set on a copy of a slice from a DataFrame.\n",
      "Try using .loc[row_indexer,col_indexer] = value instead\n",
      "\n",
      "See the caveats in the documentation: https://pandas.pydata.org/pandas-docs/stable/user_guide/indexing.html#returning-a-view-versus-a-copy\n",
      "  x[\"prompt\"] += suffix\n",
      "- [Recommended] Add a whitespace character to the beginning of the completion [Y/n]: Y\n",
      "/Users/aohus/.pyenv/versions/3.8.3/lib/python3.8/site-packages/openai/validators.py:421: SettingWithCopyWarning: \n",
      "A value is trying to be set on a copy of a slice from a DataFrame.\n",
      "Try using .loc[row_indexer,col_indexer] = value instead\n",
      "\n",
      "See the caveats in the documentation: https://pandas.pydata.org/pandas-docs/stable/user_guide/indexing.html#returning-a-view-versus-a-copy\n",
      "  x[\"completion\"] = x[\"completion\"].apply(\n",
      "- [Recommended] Would you like to split into training and validation set? [Y/n]: Y\n",
      "\n",
      "\n",
      "Your data will be written to a new JSONL file. Proceed [Y/n]: Y\n",
      "\n",
      "Wrote modified files to `dataset/sentence_type_prepared_train.jsonl` and `dataset/sentence_type_prepared_valid.jsonl`\n",
      "Feel free to take a look!\n",
      "\n",
      "Now use that file when fine-tuning:\n",
      "> openai api fine_tunes.create -t \"dataset/sentence_type_prepared_train.jsonl\" -v \"dataset/sentence_type_prepared_valid.jsonl\" --compute_classification_metrics --classification_n_classes 28\n",
      "\n",
      "After you’ve fine-tuned a model, remember that your prompt has to end with the indicator string ` ->` for the model to start generating completions, rather than continuing with the prompt.\n",
      "Once your model starts training, it'll approximately take 37.95 minutes to train a `curie` model, and less for `ada` and `babbage`. Queue will approximately take half an hour per job ahead of you.\n"
     ]
    }
   ],
   "source": [
    "!openai tools fine_tunes.prepare_data -f dataset/{filename}.jsonl -q\n",
    "!mv dataset/{filename}_prepared_train.jsonl train_valid_dataset/{filename}_prepared_train.jsonl\n",
    "!mv dataset/{filename}_prepared_valid.jsonl train_valid_dataset/{filename}_prepared_valid.jsonl"
   ]
  },
  {
   "cell_type": "code",
   "execution_count": 95,
   "metadata": {},
   "outputs": [],
   "source": [
    "import jsonlines\n",
    "\n",
    "l=[]\n",
    "with jsonlines.open(f\"train_valid_dataset/{filename}_prepared_train.jsonl\") as f:\n",
    "    for line in f.iter():\n",
    "    \tl.append(line)"
   ]
  },
  {
   "cell_type": "code",
   "execution_count": 96,
   "metadata": {},
   "outputs": [
    {
     "data": {
      "text/plain": [
       "28"
      ]
     },
     "execution_count": 96,
     "metadata": {},
     "output_type": "execute_result"
    }
   ],
   "source": [
    "df=pd.DataFrame(l)\n",
    "n=df['completion'].nunique()"
   ]
  },
  {
   "cell_type": "code",
   "execution_count": 97,
   "metadata": {},
   "outputs": [
    {
     "name": "stdout",
     "output_type": "stream",
     "text": [
      "Upload progress: 100%|████████████████████| 80.8k/80.8k [00:00<00:00, 36.2Mit/s]\n",
      "Uploaded file from train_valid_dataset/sentence_type_prepared_train.jsonl: file-h99H8iq5ZJJ3hV6bQ6PYdv6h\n",
      "Upload progress: 100%|████████████████████| 20.7k/20.7k [00:00<00:00, 28.7Mit/s]\n",
      "Uploaded file from train_valid_dataset/sentence_type_prepared_valid.jsonl: file-kuUG53DTJqOPDVRwJSiuFo4T\n",
      "Created fine-tune: ft-AyPgveTDlwkTnWEIYV1HFAGm\n",
      "Streaming events until fine-tuning is complete...\n",
      "\n",
      "(Ctrl-C will interrupt the stream, but not cancel the fine-tune)\n",
      "[2023-02-15 00:47:08] Created fine-tune: ft-AyPgveTDlwkTnWEIYV1HFAGm\n",
      "^C\n"
     ]
    }
   ],
   "source": [
    "!openai api fine_tunes.create -t \"train_valid_dataset/{filename}_prepared_train.jsonl\" -v \"train_valid_dataset/{filename}_prepared_valid.jsonl\" --compute_classification_metrics --classification_n_classes {n}  -m ada"
   ]
  },
  {
   "cell_type": "code",
   "execution_count": 99,
   "metadata": {},
   "outputs": [
    {
     "name": "stdout",
     "output_type": "stream",
     "text": [
      "[2023-02-15 00:47:08] Created fine-tune: ft-AyPgveTDlwkTnWEIYV1HFAGm\n",
      "^C\n"
     ]
    }
   ],
   "source": [
    "!openai api fine_tunes.follow -i ft-AyPgveTDlwkTnWEIYV1HFAGm"
   ]
  },
  {
   "cell_type": "code",
   "execution_count": 23,
   "metadata": {},
   "outputs": [],
   "source": [
    "if not os.path.exists('./result'):\n",
    "    os.makedirs('./result')\n",
    "    print(\"make result folder done\")"
   ]
  },
  {
   "cell_type": "code",
   "execution_count": 69,
   "metadata": {},
   "outputs": [],
   "source": [
    "!openai api fine_tunes.results -i ft-uXAk6ISjTGbgMTbhzKWUDtsq > result/result_{filename}.csv"
   ]
  },
  {
   "cell_type": "code",
   "execution_count": 70,
   "metadata": {},
   "outputs": [
    {
     "data": {
      "text/html": [
       "<div>\n",
       "<style scoped>\n",
       "    .dataframe tbody tr th:only-of-type {\n",
       "        vertical-align: middle;\n",
       "    }\n",
       "\n",
       "    .dataframe tbody tr th {\n",
       "        vertical-align: top;\n",
       "    }\n",
       "\n",
       "    .dataframe thead th {\n",
       "        text-align: right;\n",
       "    }\n",
       "</style>\n",
       "<table border=\"1\" class=\"dataframe\">\n",
       "  <thead>\n",
       "    <tr style=\"text-align: right;\">\n",
       "      <th></th>\n",
       "      <th>step</th>\n",
       "      <th>elapsed_tokens</th>\n",
       "      <th>elapsed_examples</th>\n",
       "      <th>training_loss</th>\n",
       "      <th>training_sequence_accuracy</th>\n",
       "      <th>training_token_accuracy</th>\n",
       "      <th>validation_loss</th>\n",
       "      <th>validation_sequence_accuracy</th>\n",
       "      <th>validation_token_accuracy</th>\n",
       "      <th>classification/accuracy</th>\n",
       "      <th>classification/weighted_f1_score</th>\n",
       "    </tr>\n",
       "  </thead>\n",
       "  <tbody>\n",
       "    <tr>\n",
       "      <th>2471</th>\n",
       "      <td>2472</td>\n",
       "      <td>100512</td>\n",
       "      <td>4944</td>\n",
       "      <td>0.013006</td>\n",
       "      <td>1.0</td>\n",
       "      <td>1.0</td>\n",
       "      <td>NaN</td>\n",
       "      <td>NaN</td>\n",
       "      <td>NaN</td>\n",
       "      <td>0.79288</td>\n",
       "      <td>0.784456</td>\n",
       "    </tr>\n",
       "  </tbody>\n",
       "</table>\n",
       "</div>"
      ],
      "text/plain": [
       "      step  elapsed_tokens  elapsed_examples  training_loss  \\\n",
       "2471  2472          100512              4944       0.013006   \n",
       "\n",
       "      training_sequence_accuracy  training_token_accuracy  validation_loss  \\\n",
       "2471                         1.0                      1.0              NaN   \n",
       "\n",
       "      validation_sequence_accuracy  validation_token_accuracy  \\\n",
       "2471                           NaN                        NaN   \n",
       "\n",
       "      classification/accuracy  classification/weighted_f1_score  \n",
       "2471                  0.79288                          0.784456  "
      ]
     },
     "execution_count": 70,
     "metadata": {},
     "output_type": "execute_result"
    }
   ],
   "source": [
    "results = pd.read_csv(f'result/result_{filename}.csv')\n",
    "results[results['classification/accuracy'].notnull()].tail(1)"
   ]
  },
  {
   "cell_type": "code",
   "execution_count": 71,
   "metadata": {},
   "outputs": [
    {
     "data": {
      "text/plain": [
       "<AxesSubplot:>"
      ]
     },
     "execution_count": 71,
     "metadata": {},
     "output_type": "execute_result"
    },
    {
     "data": {
      "image/png": "[encoded data removed]",
      "text/plain": [
       "<Figure size 432x288 with 1 Axes>"
      ]
     },
     "metadata": {
      "needs_background": "light"
     },
     "output_type": "display_data"
    }
   ],
   "source": [
    "results[results['classification/accuracy'].notnull()]['classification/accuracy'].plot()"
   ]
  },
  {
   "cell_type": "code",
   "execution_count": 85,
   "metadata": {},
   "outputs": [
    {
     "data": {
      "text/html": [
       "<div>\n",
       "<style scoped>\n",
       "    .dataframe tbody tr th:only-of-type {\n",
       "        vertical-align: middle;\n",
       "    }\n",
       "\n",
       "    .dataframe tbody tr th {\n",
       "        vertical-align: top;\n",
       "    }\n",
       "\n",
       "    .dataframe thead th {\n",
       "        text-align: right;\n",
       "    }\n",
       "</style>\n",
       "<table border=\"1\" class=\"dataframe\">\n",
       "  <thead>\n",
       "    <tr style=\"text-align: right;\">\n",
       "      <th></th>\n",
       "      <th>prompt</th>\n",
       "      <th>completion</th>\n",
       "    </tr>\n",
       "  </thead>\n",
       "  <tbody>\n",
       "    <tr>\n",
       "      <th>143</th>\n",
       "      <td>Save me from being confused. -&gt;</td>\n",
       "      <td>19</td>\n",
       "    </tr>\n",
       "    <tr>\n",
       "      <th>144</th>\n",
       "      <td>Put a pad underneath the rug. -&gt;</td>\n",
       "      <td>19</td>\n",
       "    </tr>\n",
       "    <tr>\n",
       "      <th>145</th>\n",
       "      <td>Put all your eggs in one basket. -&gt;</td>\n",
       "      <td>19</td>\n",
       "    </tr>\n",
       "    <tr>\n",
       "      <th>146</th>\n",
       "      <td>Memories are doing funny things to us. -&gt;</td>\n",
       "      <td>19</td>\n",
       "    </tr>\n",
       "    <tr>\n",
       "      <th>147</th>\n",
       "      <td>Keep your broken arm inside your sleeve. -&gt;</td>\n",
       "      <td>19</td>\n",
       "    </tr>\n",
       "    <tr>\n",
       "      <th>148</th>\n",
       "      <td>You can't fit a round peg in a square hole. -&gt;</td>\n",
       "      <td>19</td>\n",
       "    </tr>\n",
       "    <tr>\n",
       "      <th>149</th>\n",
       "      <td>Cast your cares on God. -&gt;</td>\n",
       "      <td>19</td>\n",
       "    </tr>\n",
       "    <tr>\n",
       "      <th>150</th>\n",
       "      <td>She regarded her sister as her best friend. -&gt;</td>\n",
       "      <td>19</td>\n",
       "    </tr>\n",
       "    <tr>\n",
       "      <th>151</th>\n",
       "      <td>Cats regard people as warm-blooded furniture. -&gt;</td>\n",
       "      <td>19</td>\n",
       "    </tr>\n",
       "    <tr>\n",
       "      <th>152</th>\n",
       "      <td>Pleasure in the job puts perfection in the wor...</td>\n",
       "      <td>19</td>\n",
       "    </tr>\n",
       "    <tr>\n",
       "      <th>153</th>\n",
       "      <td>Writing saved me from the sin and inconvenienc...</td>\n",
       "      <td>19</td>\n",
       "    </tr>\n",
       "    <tr>\n",
       "      <th>154</th>\n",
       "      <td>Don't let the fear of falling keep you from sp...</td>\n",
       "      <td>19</td>\n",
       "    </tr>\n",
       "    <tr>\n",
       "      <th>155</th>\n",
       "      <td>I've learned the best way to prevent your hear...</td>\n",
       "      <td>19</td>\n",
       "    </tr>\n",
       "    <tr>\n",
       "      <th>156</th>\n",
       "      <td>Love is the only force capable of transforming...</td>\n",
       "      <td>19</td>\n",
       "    </tr>\n",
       "    <tr>\n",
       "      <th>157</th>\n",
       "      <td>If you have a friend who is a doctor, then sen...</td>\n",
       "      <td>19</td>\n",
       "    </tr>\n",
       "    <tr>\n",
       "      <th>158</th>\n",
       "      <td>People see themselves as the center of the uni...</td>\n",
       "      <td>19</td>\n",
       "    </tr>\n",
       "    <tr>\n",
       "      <th>159</th>\n",
       "      <td>If you reveal your secrets to the wind you sho...</td>\n",
       "      <td>19</td>\n",
       "    </tr>\n",
       "    <tr>\n",
       "      <th>160</th>\n",
       "      <td>Excess on occasion is exhilarating. It prevent...</td>\n",
       "      <td>19</td>\n",
       "    </tr>\n",
       "    <tr>\n",
       "      <th>161</th>\n",
       "      <td>We treat our people like royalty. If you honor...</td>\n",
       "      <td>19</td>\n",
       "    </tr>\n",
       "    <tr>\n",
       "      <th>162</th>\n",
       "      <td>Willingness is essential in any initiation or ...</td>\n",
       "      <td>19</td>\n",
       "    </tr>\n",
       "    <tr>\n",
       "      <th>163</th>\n",
       "      <td>Marriage brings one into fatal connection with...</td>\n",
       "      <td>19</td>\n",
       "    </tr>\n",
       "  </tbody>\n",
       "</table>\n",
       "</div>"
      ],
      "text/plain": [
       "                                                prompt  completion\n",
       "143                    Save me from being confused. ->          19\n",
       "144                   Put a pad underneath the rug. ->          19\n",
       "145                Put all your eggs in one basket. ->          19\n",
       "146          Memories are doing funny things to us. ->          19\n",
       "147        Keep your broken arm inside your sleeve. ->          19\n",
       "148     You can't fit a round peg in a square hole. ->          19\n",
       "149                         Cast your cares on God. ->          19\n",
       "150     She regarded her sister as her best friend. ->          19\n",
       "151   Cats regard people as warm-blooded furniture. ->          19\n",
       "152  Pleasure in the job puts perfection in the wor...          19\n",
       "153  Writing saved me from the sin and inconvenienc...          19\n",
       "154  Don't let the fear of falling keep you from sp...          19\n",
       "155  I've learned the best way to prevent your hear...          19\n",
       "156  Love is the only force capable of transforming...          19\n",
       "157  If you have a friend who is a doctor, then sen...          19\n",
       "158  People see themselves as the center of the uni...          19\n",
       "159  If you reveal your secrets to the wind you sho...          19\n",
       "160  Excess on occasion is exhilarating. It prevent...          19\n",
       "161  We treat our people like royalty. If you honor...          19\n",
       "162  Willingness is essential in any initiation or ...          19\n",
       "163  Marriage brings one into fatal connection with...          19"
      ]
     },
     "execution_count": 85,
     "metadata": {},
     "output_type": "execute_result"
    }
   ],
   "source": [
    "test = pd.read_json('dataset/sentence_type_prepared_valid.jsonl', lines=True)\n",
    "test[test['completion']==19]"
   ]
  },
  {
   "cell_type": "code",
   "execution_count": 84,
   "metadata": {},
   "outputs": [
    {
     "data": {
      "text/plain": [
       "' 19'"
      ]
     },
     "execution_count": 84,
     "metadata": {},
     "output_type": "execute_result"
    }
   ],
   "source": [
    "ft_model = 'ada:ft-personal-2023-02-14-14-23-40'\n",
    "res = openai.Completion.create(model=ft_model, prompt='We can see that the model predicts hockey as a lot more likely than baseball. ->', max_tokens=1, temperature=0)\n",
    "res['choices'][0]['text']"
   ]
  },
  {
   "cell_type": "code",
   "execution_count": null,
   "metadata": {},
   "outputs": [],
   "source": []
  }
 ],
 "metadata": {
  "kernelspec": {
   "display_name": "Python 3",
   "language": "python",
   "name": "python3"
  },
  "language_info": {
   "codemirror_mode": {
    "name": "ipython",
    "version": 3
   },
   "file_extension": ".py",
   "mimetype": "text/x-python",
   "name": "python",
   "nbconvert_exporter": "python",
   "pygments_lexer": "ipython3",
   "version": "3.8.3"
  },
  "orig_nbformat": 4,
  "vscode": {
   "interpreter": {
    "hash": "4a2c010aadc3fd780168d8c2be8e18d5e63a83389aea6b88b2f2175232a4f4ad"
   }
  }
 },
 "nbformat": 4,
 "nbformat_minor": 2
}
