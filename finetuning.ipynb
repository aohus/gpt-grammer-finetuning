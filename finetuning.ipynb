{
 "cells": [
  {
   "cell_type": "code",
   "execution_count": 28,
   "metadata": {},
   "outputs": [],
   "source": [
    "import pandas as pd\n",
    "import openai\n",
    "from sklearn.preprocessing import LabelEncoder                                              "
   ]
  },
  {
   "cell_type": "code",
   "execution_count": 118,
   "metadata": {},
   "outputs": [],
   "source": [
    "grammer_data = pd.read_csv(\"./grammer_data.csv\", header=1)"
   ]
  },
  {
   "cell_type": "code",
   "execution_count": 119,
   "metadata": {},
   "outputs": [
    {
     "data": {
      "text/html": [
       "<div>\n",
       "<style scoped>\n",
       "    .dataframe tbody tr th:only-of-type {\n",
       "        vertical-align: middle;\n",
       "    }\n",
       "\n",
       "    .dataframe tbody tr th {\n",
       "        vertical-align: top;\n",
       "    }\n",
       "\n",
       "    .dataframe thead th {\n",
       "        text-align: right;\n",
       "    }\n",
       "</style>\n",
       "<table border=\"1\" class=\"dataframe\">\n",
       "  <thead>\n",
       "    <tr style=\"text-align: right;\">\n",
       "      <th></th>\n",
       "      <th>category</th>\n",
       "      <th>detail</th>\n",
       "      <th>difficulty</th>\n",
       "      <th>sentence</th>\n",
       "      <th>translate</th>\n",
       "    </tr>\n",
       "  </thead>\n",
       "  <tbody>\n",
       "    <tr>\n",
       "      <th>0</th>\n",
       "      <td>문장 형식 (sentence_format)</td>\n",
       "      <td>주어+완전자동사 (S+V)</td>\n",
       "      <td>하</td>\n",
       "      <td>You win.</td>\n",
       "      <td>네가 이겼어.</td>\n",
       "    </tr>\n",
       "    <tr>\n",
       "      <th>1</th>\n",
       "      <td>문장 형식 (sentence_format)</td>\n",
       "      <td>주어+완전자동사 (S+V)</td>\n",
       "      <td>하</td>\n",
       "      <td>Going up?</td>\n",
       "      <td>올라가나요?</td>\n",
       "    </tr>\n",
       "    <tr>\n",
       "      <th>2</th>\n",
       "      <td>문장 형식 (sentence_format)</td>\n",
       "      <td>주어+완전자동사 (S+V)</td>\n",
       "      <td>하</td>\n",
       "      <td>Let's see.</td>\n",
       "      <td>어디 보자.</td>\n",
       "    </tr>\n",
       "    <tr>\n",
       "      <th>3</th>\n",
       "      <td>문장 형식 (sentence_format)</td>\n",
       "      <td>주어+완전자동사 (S+V)</td>\n",
       "      <td>하</td>\n",
       "      <td>Let's try.</td>\n",
       "      <td>한 번 해봅시다.</td>\n",
       "    </tr>\n",
       "    <tr>\n",
       "      <th>4</th>\n",
       "      <td>문장 형식 (sentence_format)</td>\n",
       "      <td>주어+완전자동사 (S+V)</td>\n",
       "      <td>하</td>\n",
       "      <td>Speak out.</td>\n",
       "      <td>거리낌 없이 얘기 해.</td>\n",
       "    </tr>\n",
       "  </tbody>\n",
       "</table>\n",
       "</div>"
      ],
      "text/plain": [
       "                  category          detail difficulty    sentence  \\\n",
       "0  문장 형식 (sentence_format)  주어+완전자동사 (S+V)          하    You win.   \n",
       "1  문장 형식 (sentence_format)  주어+완전자동사 (S+V)          하   Going up?   \n",
       "2  문장 형식 (sentence_format)  주어+완전자동사 (S+V)          하  Let's see.   \n",
       "3  문장 형식 (sentence_format)  주어+완전자동사 (S+V)          하  Let's try.   \n",
       "4  문장 형식 (sentence_format)  주어+완전자동사 (S+V)          하  Speak out.   \n",
       "\n",
       "      translate  \n",
       "0      네가 이겼어.   \n",
       "1        올라가나요?  \n",
       "2       어디 보자.   \n",
       "3    한 번 해봅시다.   \n",
       "4  거리낌 없이 얘기 해.  "
      ]
     },
     "execution_count": 119,
     "metadata": {},
     "output_type": "execute_result"
    }
   ],
   "source": [
    "grammer_data.head()"
   ]
  },
  {
   "cell_type": "code",
   "execution_count": 175,
   "metadata": {},
   "outputs": [],
   "source": [
    "from collections import defaultdict\n",
    "\n",
    "class MultiColLabelEncoder:\n",
    "    def __init__(self) -> None:\n",
    "        self.encoder_dict = defaultdict(LabelEncoder)\n",
    "\n",
    "    def fit_transform(self, X: pd.DataFrame, columns: str):\n",
    "        # if not isinstance(columns, list):\n",
    "        #     columns = [columns]\n",
    "\n",
    "        output = X.copy()\n",
    "        output[columns] = X[columns].apply(lambda x: self.encoder_dict[x.name].fit_transform(x))\n",
    "        return output\n",
    "    \n",
    "    def inverse_transform(self, X: pd.DataFrame, columns: str):\n",
    "        # if not isinstance(columns, list):\n",
    "        #     columns[columns]\n",
    "        if not all(key in self.encoder_dict for key in columns):\n",
    "            raise KeyError(f'At least one of {columns} is not encoded before')\n",
    "\n",
    "        output = X.copy()\n",
    "        try:\n",
    "            output[columns] = X[columns].apply(lambda x: self.encoder_dict[x.name].inverse_transform(x))\n",
    "        except ValueError:\n",
    "            print(f'Need assingment when do \"fit_transform\" function')\n",
    "            raise\n",
    "        return output"
   ]
  },
  {
   "cell_type": "code",
   "execution_count": 199,
   "metadata": {},
   "outputs": [],
   "source": [
    "import pickle\n",
    "import re\n",
    "\n",
    "dataset={}\n",
    "\n",
    "for category in grammer_data['category'].unique():\n",
    "    english_pattern = re.compile(r'\\b[a-zA-Z_]+\\b')\n",
    "    en_key= category if english_pattern.findall(category)==[] else english_pattern.findall(category)[0]\n",
    "    dataset[en_key] = grammer_data[grammer_data['category']==category][['category','detail','sentence']]\n",
    "    encoder = LabelEncoder()\n",
    "    dataset[en_key]['detail']=encoder.fit_transform(dataset[en_key]['detail'].values)\n",
    "    with open(f'key_dict/key_dict_{en_key}.pkl', 'wb') as f:\n",
    "        pickle.dump(encoder.classes_, f)"
   ]
  },
  {
   "cell_type": "code",
   "execution_count": 198,
   "metadata": {},
   "outputs": [
    {
     "name": "stdout",
     "output_type": "stream",
     "text": [
      "sentence_format\n",
      "sentence_type\n",
      "sentence_component\n",
      "nouns\n",
      "referents\n",
      "verbs\n",
      "tense\n",
      "modals\n",
      "adjectives\n",
      "adverbs\n",
      "prepositions\n",
      "conjunctions\n",
      "determiners\n",
      "negation\n",
      "exceptions\n",
      "participle\n",
      "gerunds\n",
      "infinitives\n",
      "comparison\n",
      "relatives\n",
      "voice\n",
      "subjunctives\n",
      "transformation\n",
      "frequent_syntax\n",
      "Idioms\n",
      "communicatives\n"
     ]
    }
   ],
   "source": [
    "import pandas as pd\n",
    "import json\n",
    "import glob, os\n",
    "\n",
    "# dataset_folder_path='./dataset/'\n",
    "# if os.path.exists(dataset_folder_path):\n",
    "#     os.system(f\"rm -r {dataset_folder_path}\")\n",
    "    \n",
    "# Create the new folder\n",
    "if not os.path.exists('./dataset/'):\n",
    "    os.makedirs('./dataset/')\n",
    "df_dict={}\n",
    "for idx, key in enumerate(dataset.keys()):\n",
    "    labels = [i for i in dataset[key]['detail']]\n",
    "    texts = [i for i in dataset[key]['sentence']]\n",
    "    df_dict[key] = pd.DataFrame(zip(texts, labels), columns = ['prompt','completion']) #[:300]\n",
    "    df_json = df_dict[key].to_json(f\"dataset/{key}.jsonl\", orient='records', lines=True)"
   ]
  },
  {
   "cell_type": "code",
   "execution_count": 8,
   "metadata": {},
   "outputs": [
    {
     "name": "stdout",
     "output_type": "stream",
     "text": [
      "Requirement already satisfied: openai in /Users/aohus/.pyenv/versions/3.8.3/lib/python3.8/site-packages (0.26.5)\n",
      "Requirement already satisfied: requests>=2.20 in /Users/aohus/.pyenv/versions/3.8.3/lib/python3.8/site-packages (from openai) (2.24.0)\n",
      "Requirement already satisfied: tqdm in /Users/aohus/.pyenv/versions/3.8.3/lib/python3.8/site-packages (from openai) (4.50.2)\n",
      "Requirement already satisfied: aiohttp in /Users/aohus/.pyenv/versions/3.8.3/lib/python3.8/site-packages (from openai) (3.8.4)\n",
      "Requirement already satisfied: idna<3,>=2.5 in /Users/aohus/.pyenv/versions/3.8.3/lib/python3.8/site-packages (from requests>=2.20->openai) (2.10)\n",
      "Requirement already satisfied: certifi>=2017.4.17 in /Users/aohus/.pyenv/versions/3.8.3/lib/python3.8/site-packages (from requests>=2.20->openai) (2020.6.20)\n",
      "Requirement already satisfied: chardet<4,>=3.0.2 in /Users/aohus/.pyenv/versions/3.8.3/lib/python3.8/site-packages (from requests>=2.20->openai) (3.0.4)\n",
      "Requirement already satisfied: urllib3!=1.25.0,!=1.25.1,<1.26,>=1.21.1 in /Users/aohus/.pyenv/versions/3.8.3/lib/python3.8/site-packages (from requests>=2.20->openai) (1.25.10)\n",
      "Requirement already satisfied: yarl<2.0,>=1.0 in /Users/aohus/.pyenv/versions/3.8.3/lib/python3.8/site-packages (from aiohttp->openai) (1.8.2)\n",
      "Requirement already satisfied: charset-normalizer<4.0,>=2.0 in /Users/aohus/.pyenv/versions/3.8.3/lib/python3.8/site-packages (from aiohttp->openai) (3.0.1)\n",
      "Requirement already satisfied: multidict<7.0,>=4.5 in /Users/aohus/.pyenv/versions/3.8.3/lib/python3.8/site-packages (from aiohttp->openai) (6.0.4)\n",
      "Requirement already satisfied: async-timeout<5.0,>=4.0.0a3 in /Users/aohus/.pyenv/versions/3.8.3/lib/python3.8/site-packages (from aiohttp->openai) (4.0.2)\n",
      "Requirement already satisfied: frozenlist>=1.1.1 in /Users/aohus/.pyenv/versions/3.8.3/lib/python3.8/site-packages (from aiohttp->openai) (1.3.3)\n",
      "Requirement already satisfied: attrs>=17.3.0 in /Users/aohus/.pyenv/versions/3.8.3/lib/python3.8/site-packages (from aiohttp->openai) (20.2.0)\n",
      "Requirement already satisfied: aiosignal>=1.1.2 in /Users/aohus/.pyenv/versions/3.8.3/lib/python3.8/site-packages (from aiohttp->openai) (1.3.1)\n"
     ]
    }
   ],
   "source": [
    "!pip install --upgrade openai"
   ]
  },
  {
   "cell_type": "code",
   "execution_count": 200,
   "metadata": {},
   "outputs": [],
   "source": [
    "filename='adjectives'"
   ]
  },
  {
   "cell_type": "code",
   "execution_count": 201,
   "metadata": {},
   "outputs": [
    {
     "name": "stdout",
     "output_type": "stream",
     "text": [
      "Analyzing...\n",
      "\n",
      "- Your file contains 708 prompt-completion pairs\n",
      "- Based on your data it seems like you're trying to fine-tune a model for classification\n",
      "- For classification, we recommend you try one of the faster and cheaper models, such as `ada`\n",
      "- For classification, you can estimate the expected model performance by keeping a held out dataset, which is not used for training\n",
      "- Your data does not contain a common separator at the end of your prompts. Having a separator string appended to the end of the prompt makes it clearer to the fine-tuned model where the completion should begin. See https://beta.openai.com/docs/guides/fine-tuning/preparing-your-dataset for more detail and examples. If you intend to do open-ended generation, then you should leave the prompts empty\n",
      "- The completion should start with a whitespace character (` `). This tends to produce better results due to the tokenization we use. See https://beta.openai.com/docs/guides/fine-tuning/preparing-your-dataset for more details\n",
      "\n",
      "Based on the analysis we will perform the following actions:\n",
      "- [Recommended] Add a suffix separator ` ->` to all prompts [Y/n]: Y\n",
      "- [Recommended] Add a whitespace character to the beginning of the completion [Y/n]: Y\n",
      "- [Recommended] Would you like to split into training and validation set? [Y/n]: Y\n",
      "\n",
      "\n",
      "Your data will be written to a new JSONL file. Proceed [Y/n]: Y\n",
      "\n",
      "Wrote modified files to `dataset/adjectives_prepared_train.jsonl` and `dataset/adjectives_prepared_valid.jsonl`\n",
      "Feel free to take a look!\n",
      "\n",
      "Now use that file when fine-tuning:\n",
      "> openai api fine_tunes.create -t \"dataset/adjectives_prepared_train.jsonl\" -v \"dataset/adjectives_prepared_valid.jsonl\" --compute_classification_metrics --classification_n_classes 15\n",
      "\n",
      "After you’ve fine-tuned a model, remember that your prompt has to end with the indicator string ` ->` for the model to start generating completions, rather than continuing with the prompt.\n",
      "Once your model starts training, it'll approximately take 19.33 minutes to train a `curie` model, and less for `ada` and `babbage`. Queue will approximately take half an hour per job ahead of you.\n"
     ]
    }
   ],
   "source": [
    "!openai tools fine_tunes.prepare_data -f dataset/{filename}.jsonl -q\n",
    "!mv dataset/{filename}_prepared_train.jsonl train_valid_dataset/{filename}_prepared_train.jsonl\n",
    "!mv dataset/{filename}_prepared_valid.jsonl train_valid_dataset/{filename}_prepared_valid.jsonl"
   ]
  },
  {
   "cell_type": "code",
   "execution_count": 3,
   "metadata": {},
   "outputs": [],
   "source": [
    "import jsonlines\n",
    "filename='adjectives'\n",
    "l=[]\n",
    "with jsonlines.open(f\"train_valid_dataset/{filename}_prepared_train.jsonl\") as f:\n",
    "    for line in f.iter():\n",
    "    \tl.append(line)"
   ]
  },
  {
   "cell_type": "code",
   "execution_count": 4,
   "metadata": {},
   "outputs": [],
   "source": [
    "import pandas as pd \n",
    "df=pd.DataFrame(l)\n",
    "n=df['completion'].nunique()"
   ]
  },
  {
   "cell_type": "code",
   "execution_count": null,
   "metadata": {},
   "outputs": [],
   "source": [
    "if not os.path.exists('./train_valid_dataset'):\n",
    "    os.makedirs('./train_valid_dataset')\n",
    "    print(\"make train_valid_dataset folder done\")"
   ]
  },
  {
   "cell_type": "code",
   "execution_count": 204,
   "metadata": {},
   "outputs": [
    {
     "name": "stdout",
     "output_type": "stream",
     "text": [
      "Upload progress: 100%|████████████████████| 45.3k/45.3k [00:00<00:00, 30.4Mit/s]\n",
      "Uploaded file from train_valid_dataset/adjectives_prepared_train.jsonl: file-LVbEWVGghQaLcozba5lCsOyA\n",
      "Upload progress: 100%|████████████████████| 12.0k/12.0k [00:00<00:00, 12.8Mit/s]\n",
      "Uploaded file from train_valid_dataset/adjectives_prepared_valid.jsonl: file-11pWdI0IEAJbKvObCv8QclQa\n",
      "Created fine-tune: ft-w460tbtixUivVXwqLCjMhrgf\n",
      "Streaming events until fine-tuning is complete...\n",
      "\n",
      "(Ctrl-C will interrupt the stream, but not cancel the fine-tune)\n",
      "[2023-02-15 13:58:42] Created fine-tune: ft-w460tbtixUivVXwqLCjMhrgf\n",
      "\n",
      "Stream interrupted (client disconnected).\n",
      "To resume the stream, run:\n",
      "\n",
      "  openai api fine_tunes.follow -i ft-w460tbtixUivVXwqLCjMhrgf\n",
      "\n"
     ]
    }
   ],
   "source": [
    "!openai api fine_tunes.create -t \"train_valid_dataset/{filename}_prepared_train.jsonl\" -v \"train_valid_dataset/{filename}_prepared_valid.jsonl\" --compute_classification_metrics --classification_n_classes {n}  -m ada"
   ]
  },
  {
   "cell_type": "code",
   "execution_count": null,
   "metadata": {},
   "outputs": [],
   "source": [
    "openai api fine_tunes.create -t \"train_valid_dataset/adjectives_prepared_train.jsonl\" -v \"train_valid_dataset/adjectives_prepared_valid.jsonl\" --compute_classification_metrics --classification_n_classes 15  -m davinci"
   ]
  },
  {
   "cell_type": "code",
   "execution_count": 206,
   "metadata": {},
   "outputs": [
    {
     "name": "stdout",
     "output_type": "stream",
     "text": [
      "[2023-02-15 13:58:42] Created fine-tune: ft-w460tbtixUivVXwqLCjMhrgf\n",
      "[2023-02-15 14:08:55] Fine-tune costs $0.01\n",
      "[2023-02-15 14:08:55] Fine-tune enqueued. Queue number: 10\n",
      "[2023-02-15 14:10:30] Fine-tune is in the queue. Queue number: 9\n",
      "[2023-02-15 14:11:14] Fine-tune is in the queue. Queue number: 8\n",
      "[2023-02-15 14:11:16] Fine-tune is in the queue. Queue number: 7\n",
      "[2023-02-15 14:11:59] Fine-tune is in the queue. Queue number: 6\n",
      "[2023-02-15 14:13:43] Fine-tune is in the queue. Queue number: 5\n",
      "[2023-02-15 14:14:36] Fine-tune is in the queue. Queue number: 4\n",
      "\n",
      "Stream interrupted (client disconnected).\n",
      "To resume the stream, run:\n",
      "\n",
      "  openai api fine_tunes.follow -i ft-w460tbtixUivVXwqLCjMhrgf\n",
      "\n"
     ]
    }
   ],
   "source": [
    "!openai api fine_tunes.follow -i ft-w460tbtixUivVXwqLCjMhrgf"
   ]
  },
  {
   "cell_type": "code",
   "execution_count": 23,
   "metadata": {},
   "outputs": [],
   "source": [
    "if not os.path.exists('./result'):\n",
    "    os.makedirs('./result')\n",
    "    print(\"make result folder done\")"
   ]
  },
  {
   "cell_type": "code",
   "execution_count": 6,
   "metadata": {},
   "outputs": [
    {
     "data": {
      "text/plain": [
       "'adjectives'"
      ]
     },
     "execution_count": 6,
     "metadata": {},
     "output_type": "execute_result"
    }
   ],
   "source": [
    "filename"
   ]
  },
  {
   "cell_type": "code",
   "execution_count": 7,
   "metadata": {},
   "outputs": [
    {
     "name": "stdout",
     "output_type": "stream",
     "text": [
      "\u001b[91mError:\u001b[0m No API key provided. You can set your API key in code using 'openai.api_key = <API-KEY>', or you can set the environment variable OPENAI_API_KEY=<API-KEY>). If your API key is stored in a file, you can point the openai module at it with 'openai.api_key_path = <PATH>'. You can generate API keys in the OpenAI web interface. See https://onboard.openai.com for details, or email support@openai.com if you have any questions.\n"
     ]
    }
   ],
   "source": [
    "!openai api fine_tunes.results -i ft-2hkjW23W4ldixv1QsSFMfbdW > result/result_{filename}.csv"
   ]
  },
  {
   "cell_type": "code",
   "execution_count": 8,
   "metadata": {},
   "outputs": [
    {
     "data": {
      "text/html": [
       "<div>\n",
       "<style scoped>\n",
       "    .dataframe tbody tr th:only-of-type {\n",
       "        vertical-align: middle;\n",
       "    }\n",
       "\n",
       "    .dataframe tbody tr th {\n",
       "        vertical-align: top;\n",
       "    }\n",
       "\n",
       "    .dataframe thead th {\n",
       "        text-align: right;\n",
       "    }\n",
       "</style>\n",
       "<table border=\"1\" class=\"dataframe\">\n",
       "  <thead>\n",
       "    <tr style=\"text-align: right;\">\n",
       "      <th></th>\n",
       "      <th>step</th>\n",
       "      <th>elapsed_tokens</th>\n",
       "      <th>elapsed_examples</th>\n",
       "      <th>training_loss</th>\n",
       "      <th>training_sequence_accuracy</th>\n",
       "      <th>training_token_accuracy</th>\n",
       "      <th>validation_loss</th>\n",
       "      <th>validation_sequence_accuracy</th>\n",
       "      <th>validation_token_accuracy</th>\n",
       "      <th>classification/accuracy</th>\n",
       "      <th>classification/weighted_f1_score</th>\n",
       "    </tr>\n",
       "  </thead>\n",
       "  <tbody>\n",
       "    <tr>\n",
       "      <th>2265</th>\n",
       "      <td>2266</td>\n",
       "      <td>35418</td>\n",
       "      <td>2266</td>\n",
       "      <td>0.007701</td>\n",
       "      <td>1.0</td>\n",
       "      <td>1.0</td>\n",
       "      <td>NaN</td>\n",
       "      <td>NaN</td>\n",
       "      <td>NaN</td>\n",
       "      <td>0.577465</td>\n",
       "      <td>0.569974</td>\n",
       "    </tr>\n",
       "  </tbody>\n",
       "</table>\n",
       "</div>"
      ],
      "text/plain": [
       "      step  elapsed_tokens  elapsed_examples  training_loss  \\\n",
       "2265  2266           35418              2266       0.007701   \n",
       "\n",
       "      training_sequence_accuracy  training_token_accuracy  validation_loss  \\\n",
       "2265                         1.0                      1.0              NaN   \n",
       "\n",
       "      validation_sequence_accuracy  validation_token_accuracy  \\\n",
       "2265                           NaN                        NaN   \n",
       "\n",
       "      classification/accuracy  classification/weighted_f1_score  \n",
       "2265                 0.577465                          0.569974  "
      ]
     },
     "execution_count": 8,
     "metadata": {},
     "output_type": "execute_result"
    }
   ],
   "source": [
    "results = pd.read_csv(f'result/result_{filename}.csv')\n",
    "results[results['classification/accuracy'].notnull()].tail(1)"
   ]
  },
  {
   "cell_type": "code",
   "execution_count": 9,
   "metadata": {},
   "outputs": [
    {
     "data": {
      "text/plain": [
       "<AxesSubplot:>"
      ]
     },
     "execution_count": 9,
     "metadata": {},
     "output_type": "execute_result"
    },
    {
     "data": {
      "image/png": "[encoded data removed]",
      "text/plain": [
       "<Figure size 432x288 with 1 Axes>"
      ]
     },
     "metadata": {
      "needs_background": "light"
     },
     "output_type": "display_data"
    }
   ],
   "source": [
    "results[results['classification/accuracy'].notnull()]['classification/accuracy'].plot()"
   ]
  },
  {
   "cell_type": "code",
   "execution_count": 10,
   "metadata": {},
   "outputs": [
    {
     "data": {
      "text/html": [
       "<div>\n",
       "<style scoped>\n",
       "    .dataframe tbody tr th:only-of-type {\n",
       "        vertical-align: middle;\n",
       "    }\n",
       "\n",
       "    .dataframe tbody tr th {\n",
       "        vertical-align: top;\n",
       "    }\n",
       "\n",
       "    .dataframe thead th {\n",
       "        text-align: right;\n",
       "    }\n",
       "</style>\n",
       "<table border=\"1\" class=\"dataframe\">\n",
       "  <thead>\n",
       "    <tr style=\"text-align: right;\">\n",
       "      <th></th>\n",
       "      <th>prompt</th>\n",
       "      <th>completion</th>\n",
       "    </tr>\n",
       "  </thead>\n",
       "  <tbody>\n",
       "  </tbody>\n",
       "</table>\n",
       "</div>"
      ],
      "text/plain": [
       "Empty DataFrame\n",
       "Columns: [prompt, completion]\n",
       "Index: []"
      ]
     },
     "execution_count": 10,
     "metadata": {},
     "output_type": "execute_result"
    }
   ],
   "source": [
    "test = pd.read_json(f'train_valid_dataset/{filename}_prepared_valid.jsonl', lines=True)\n",
    "test[test['completion']==19]"
   ]
  },
  {
   "cell_type": "code",
   "execution_count": 11,
   "metadata": {},
   "outputs": [
    {
     "ename": "NameError",
     "evalue": "name 'pickle' is not defined",
     "output_type": "error",
     "traceback": [
      "\u001b[0;31m---------------------------------------------------------------------------\u001b[0m",
      "\u001b[0;31mNameError\u001b[0m                                 Traceback (most recent call last)",
      "\u001b[0;32m<ipython-input-11-a1095fb0c4c0>\u001b[0m in \u001b[0;36m<module>\u001b[0;34m\u001b[0m\n\u001b[1;32m      1\u001b[0m \u001b[0;32mwith\u001b[0m \u001b[0mopen\u001b[0m\u001b[0;34m(\u001b[0m\u001b[0;34mf'key_dict/key_dict_{filename}.pkl'\u001b[0m\u001b[0;34m,\u001b[0m \u001b[0;34m'rb'\u001b[0m\u001b[0;34m)\u001b[0m \u001b[0;32mas\u001b[0m \u001b[0mf\u001b[0m\u001b[0;34m:\u001b[0m\u001b[0;34m\u001b[0m\u001b[0;34m\u001b[0m\u001b[0m\n\u001b[0;32m----> 2\u001b[0;31m     \u001b[0mkey_dict\u001b[0m \u001b[0;34m=\u001b[0m \u001b[0mpickle\u001b[0m\u001b[0;34m.\u001b[0m\u001b[0mload\u001b[0m\u001b[0;34m(\u001b[0m\u001b[0mf\u001b[0m\u001b[0;34m)\u001b[0m\u001b[0;34m\u001b[0m\u001b[0;34m\u001b[0m\u001b[0m\n\u001b[0m",
      "\u001b[0;31mNameError\u001b[0m: name 'pickle' is not defined"
     ]
    }
   ],
   "source": [
    "with open(f'key_dict/key_dict_{filename}.pkl', 'rb') as f:\n",
    "    key_dict = pickle.load(f)"
   ]
  },
  {
   "cell_type": "code",
   "execution_count": 174,
   "metadata": {},
   "outputs": [
    {
     "data": {
      "text/plain": [
       "'간접의문문 어순 변화'"
      ]
     },
     "execution_count": 174,
     "metadata": {},
     "output_type": "execute_result"
    }
   ],
   "source": [
    "ft_model = 'ada:ft-personal-2023-02-14-17-33-56'\n",
    "res = openai.Completion.create(model=ft_model, prompt='save the key-value encoding dictionary ->', max_tokens=1, temperature=0)\n",
    "key_dict[int(res['choices'][0]['text'][1:])]"
   ]
  },
  {
   "cell_type": "code",
   "execution_count": 165,
   "metadata": {},
   "outputs": [
    {
     "data": {
      "text/plain": [
       "'sentence_type'"
      ]
     },
     "execution_count": 165,
     "metadata": {},
     "output_type": "execute_result"
    }
   ],
   "source": [
    "filename"
   ]
  }
 ],
 "metadata": {
  "kernelspec": {
   "display_name": "Python 3",
   "language": "python",
   "name": "python3"
  },
  "language_info": {
   "codemirror_mode": {
    "name": "ipython",
    "version": 3
   },
   "file_extension": ".py",
   "mimetype": "text/x-python",
   "name": "python",
   "nbconvert_exporter": "python",
   "pygments_lexer": "ipython3",
   "version": "3.8.3"
  },
  "orig_nbformat": 4,
  "vscode": {
   "interpreter": {
    "hash": "4a2c010aadc3fd780168d8c2be8e18d5e63a83389aea6b88b2f2175232a4f4ad"
   }
  }
 },
 "nbformat": 4,
 "nbformat_minor": 2
}
